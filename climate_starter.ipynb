{
 "cells": [
  {
   "cell_type": "code",
   "execution_count": 3,
   "metadata": {},
   "outputs": [],
   "source": [
    "%matplotlib inline\n",
    "from matplotlib import style\n",
    "style.use('fivethirtyeight')\n",
    "import matplotlib.pyplot as plt"
   ]
  },
  {
   "cell_type": "code",
   "execution_count": 4,
   "metadata": {},
   "outputs": [],
   "source": [
    "import numpy as np\n",
    "import pandas as pd\n",
    "import scipy.stats as sts\n",
    "import numpy as np"
   ]
  },
  {
   "cell_type": "code",
   "execution_count": 5,
   "metadata": {},
   "outputs": [],
   "source": [
    "import datetime as dt"
   ]
  },
  {
   "cell_type": "markdown",
   "metadata": {},
   "source": [
    "# Reflect Tables into SQLAlchemy ORM"
   ]
  },
  {
   "cell_type": "code",
   "execution_count": 6,
   "metadata": {},
   "outputs": [],
   "source": [
    "# Python SQL toolkit and Object Relational Mapper\n",
    "import sqlalchemy\n",
    "from sqlalchemy.ext.automap import automap_base\n",
    "from sqlalchemy.orm import Session\n",
    "from sqlalchemy import create_engine, func, inspect"
   ]
  },
  {
   "cell_type": "code",
   "execution_count": 7,
   "metadata": {},
   "outputs": [],
   "source": [
    "engine = create_engine(\"sqlite:///Resources/hawaii.sqlite\")"
   ]
  },
  {
   "cell_type": "code",
   "execution_count": 8,
   "metadata": {},
   "outputs": [
    {
     "data": {
      "text/plain": [
       "['measurement', 'station']"
      ]
     },
     "execution_count": 8,
     "metadata": {},
     "output_type": "execute_result"
    }
   ],
   "source": [
    "# reflect an existing database into a new model\n",
    "Base = automap_base()\n",
    "Base.prepare(engine, reflect=True)\n",
    "Base.classes.keys()"
   ]
  },
  {
   "cell_type": "code",
   "execution_count": 9,
   "metadata": {},
   "outputs": [],
   "source": [
    "# reflect the tables\n",
    "measurement = Base.classes.measurement\n",
    "station = Base.classes.station"
   ]
  },
  {
   "cell_type": "code",
   "execution_count": 10,
   "metadata": {},
   "outputs": [],
   "source": [
    "# Create our session (link) from Python to the DB\n",
    "session = Session(engine)"
   ]
  },
  {
   "cell_type": "code",
   "execution_count": 11,
   "metadata": {},
   "outputs": [
    {
     "data": {
      "text/plain": [
       "['measurement', 'station']"
      ]
     },
     "execution_count": 11,
     "metadata": {},
     "output_type": "execute_result"
    }
   ],
   "source": [
    "inspector = inspect(engine)\n",
    "inspector.get_table_names()"
   ]
  },
  {
   "cell_type": "code",
   "execution_count": 12,
   "metadata": {},
   "outputs": [
    {
     "data": {
      "text/plain": [
       "{'_sa_instance_state': <sqlalchemy.orm.state.InstanceState at 0x21d0d2239b0>,\n",
       " 'id': 1,\n",
       " 'tobs': 65.0,\n",
       " 'date': '2010-01-01',\n",
       " 'prcp': 0.08,\n",
       " 'station': 'USC00519397'}"
      ]
     },
     "execution_count": 12,
     "metadata": {},
     "output_type": "execute_result"
    }
   ],
   "source": [
    "# View the measurement class\n",
    "first_row = session.query(measurement).first()\n",
    "first_row.__dict__"
   ]
  },
  {
   "cell_type": "code",
   "execution_count": 13,
   "metadata": {},
   "outputs": [
    {
     "data": {
      "text/plain": [
       "{'_sa_instance_state': <sqlalchemy.orm.state.InstanceState at 0x21d0d223da0>,\n",
       " 'longitude': -157.8168,\n",
       " 'name': 'WAIKIKI 717.2, HI US',\n",
       " 'id': 1,\n",
       " 'elevation': 3.0,\n",
       " 'latitude': 21.2716,\n",
       " 'station': 'USC00519397'}"
      ]
     },
     "execution_count": 13,
     "metadata": {},
     "output_type": "execute_result"
    }
   ],
   "source": [
    "# View the station class\n",
    "first_row = session.query(station).first()\n",
    "first_row.__dict__"
   ]
  },
  {
   "cell_type": "code",
   "execution_count": 14,
   "metadata": {},
   "outputs": [
    {
     "name": "stdout",
     "output_type": "stream",
     "text": [
      "id INTEGER\n",
      "station TEXT\n",
      "date TEXT\n",
      "prcp FLOAT\n",
      "tobs FLOAT\n"
     ]
    }
   ],
   "source": [
    "# Get a list of column names and types in measurement\n",
    "columns = inspector.get_columns('measurement')\n",
    "for c in columns:\n",
    "    print(c['name'], c[\"type\"])"
   ]
  },
  {
   "cell_type": "code",
   "execution_count": 15,
   "metadata": {},
   "outputs": [
    {
     "name": "stdout",
     "output_type": "stream",
     "text": [
      "('USC00519397', '2010-01-01', 0.08, 65.0)\n",
      "('USC00519397', '2010-01-02', 0.0, 63.0)\n",
      "('USC00519397', '2010-01-03', 0.0, 74.0)\n",
      "('USC00519397', '2010-01-04', 0.0, 76.0)\n",
      "('USC00519397', '2010-01-06', None, 73.0)\n"
     ]
    }
   ],
   "source": [
    "# Use the session to query measurement table and display the first 5 trade volumes\n",
    "for row in session.query(measurement.station, measurement.date, measurement.prcp, measurement.tobs).limit(5).all():\n",
    "    print(row)"
   ]
  },
  {
   "cell_type": "code",
   "execution_count": 16,
   "metadata": {},
   "outputs": [
    {
     "name": "stdout",
     "output_type": "stream",
     "text": [
      "id INTEGER\n",
      "station TEXT\n",
      "name TEXT\n",
      "latitude FLOAT\n",
      "longitude FLOAT\n",
      "elevation FLOAT\n"
     ]
    }
   ],
   "source": [
    "# Get a list of column names and types in station\n",
    "columns = inspector.get_columns('station')\n",
    "for c in columns:\n",
    "    print(c['name'], c[\"type\"])"
   ]
  },
  {
   "cell_type": "code",
   "execution_count": 17,
   "metadata": {},
   "outputs": [
    {
     "name": "stdout",
     "output_type": "stream",
     "text": [
      "('USC00519397', 'WAIKIKI 717.2, HI US', 21.2716, -157.8168, 3.0)\n",
      "('USC00513117', 'KANEOHE 838.1, HI US', 21.4234, -157.8015, 14.6)\n",
      "('USC00514830', 'KUALOA RANCH HEADQUARTERS 886.9, HI US', 21.5213, -157.8374, 7.0)\n",
      "('USC00517948', 'PEARL CITY, HI US', 21.3934, -157.9751, 11.9)\n",
      "('USC00518838', 'UPPER WAHIAWA 874.3, HI US', 21.4992, -158.0111, 306.6)\n"
     ]
    }
   ],
   "source": [
    "# Use the session to query station table and display the first 5 trade volumes\n",
    "for row in session.query(station.station, station.name, station.latitude, station.longitude, station.elevation).limit(5).all():\n",
    "    print(row)"
   ]
  },
  {
   "cell_type": "code",
   "execution_count": 18,
   "metadata": {},
   "outputs": [],
   "source": [
    "# Save references to each table\n",
    "Measurement = Base.classes.measurement\n",
    "Station = Base.classes.station"
   ]
  },
  {
   "cell_type": "markdown",
   "metadata": {},
   "source": [
    "# Exploratory Climate Analysis"
   ]
  },
  {
   "cell_type": "code",
   "execution_count": 19,
   "metadata": {},
   "outputs": [],
   "source": [
    "# Design a query to retrieve the last 12 months of precipitation data and plot the results\n",
    "# Calculate the date 1 year ago from the last data point in the database\n",
    "# Perform a query to retrieve the data and precipitation scores\n",
    "# Save the query results as a Pandas DataFrame and set the index to the date column\n",
    "# Sort the dataframe by date\n",
    "# Use Pandas Plotting with Matplotlib to plot the data"
   ]
  },
  {
   "cell_type": "code",
   "execution_count": 20,
   "metadata": {},
   "outputs": [
    {
     "data": {
      "text/plain": [
       "('2017-08-23')"
      ]
     },
     "execution_count": 20,
     "metadata": {},
     "output_type": "execute_result"
    }
   ],
   "source": [
    "# Latest Date\n",
    "session.query(Measurement.date).order_by(Measurement.date.desc()).first()"
   ]
  },
  {
   "cell_type": "code",
   "execution_count": 21,
   "metadata": {},
   "outputs": [
    {
     "data": {
      "text/plain": [
       "[('USC00519397', '2016-08-24', 0.08),\n",
       " ('USC00519397', '2016-08-25', 0.08),\n",
       " ('USC00519397', '2016-08-26', 0.0),\n",
       " ('USC00519397', '2016-08-27', 0.0),\n",
       " ('USC00519397', '2016-08-28', 0.01),\n",
       " ('USC00519397', '2016-08-29', 0.0),\n",
       " ('USC00519397', '2016-08-30', 0.0),\n",
       " ('USC00519397', '2016-08-31', 0.13),\n",
       " ('USC00519397', '2016-09-01', 0.0),\n",
       " ('USC00519397', '2016-09-02', 0.0),\n",
       " ('USC00519397', '2016-09-03', 0.0),\n",
       " ('USC00519397', '2016-09-04', 0.03),\n",
       " ('USC00519397', '2016-09-05', None),\n",
       " ('USC00519397', '2016-09-06', None),\n",
       " ('USC00519397', '2016-09-07', 0.05),\n",
       " ('USC00519397', '2016-09-08', 0.0),\n",
       " ('USC00519397', '2016-09-09', 0.03),\n",
       " ('USC00519397', '2016-09-10', 0.0),\n",
       " ('USC00519397', '2016-09-11', 0.05),\n",
       " ('USC00519397', '2016-09-12', 0.0),\n",
       " ('USC00519397', '2016-09-13', 0.02),\n",
       " ('USC00519397', '2016-09-14', 1.32),\n",
       " ('USC00519397', '2016-09-15', 0.42),\n",
       " ('USC00519397', '2016-09-16', 0.06),\n",
       " ('USC00519397', '2016-09-17', 0.05),\n",
       " ('USC00519397', '2016-09-18', 0.0),\n",
       " ('USC00519397', '2016-09-19', 0.0),\n",
       " ('USC00519397', '2016-09-20', 0.0),\n",
       " ('USC00519397', '2016-09-21', 0.0),\n",
       " ('USC00519397', '2016-09-22', 0.02),\n",
       " ('USC00519397', '2016-09-23', 0.0),\n",
       " ('USC00519397', '2016-09-24', 0.0),\n",
       " ('USC00519397', '2016-09-25', 0.0),\n",
       " ('USC00519397', '2016-09-26', 0.06),\n",
       " ('USC00519397', '2016-09-27', 0.02),\n",
       " ('USC00519397', '2016-09-28', 0.0),\n",
       " ('USC00519397', '2016-09-29', 0.0),\n",
       " ('USC00519397', '2016-09-30', 0.0),\n",
       " ('USC00519397', '2016-10-01', 0.0),\n",
       " ('USC00519397', '2016-10-02', 0.0),\n",
       " ('USC00519397', '2016-10-03', 0.0),\n",
       " ('USC00519397', '2016-10-04', 0.0),\n",
       " ('USC00519397', '2016-10-05', 0.0),\n",
       " ('USC00519397', '2016-10-06', 0.0),\n",
       " ('USC00519397', '2016-10-07', 0.0),\n",
       " ('USC00519397', '2016-10-08', 0.0),\n",
       " ('USC00519397', '2016-10-09', 0.0),\n",
       " ('USC00519397', '2016-10-10', 0.0),\n",
       " ('USC00519397', '2016-10-11', 0.0),\n",
       " ('USC00519397', '2016-10-12', 0.0),\n",
       " ('USC00519397', '2016-10-13', 0.0),\n",
       " ('USC00519397', '2016-10-14', 0.0),\n",
       " ('USC00519397', '2016-10-15', 0.0),\n",
       " ('USC00519397', '2016-10-16', 0.0),\n",
       " ('USC00519397', '2016-10-17', 0.01),\n",
       " ('USC00519397', '2016-10-18', 0.0),\n",
       " ('USC00519397', '2016-10-19', 0.0),\n",
       " ('USC00519397', '2016-10-20', 0.0),\n",
       " ('USC00519397', '2016-10-21', 0.05),\n",
       " ('USC00519397', '2016-10-22', 0.15),\n",
       " ('USC00519397', '2016-10-23', 0.01),\n",
       " ('USC00519397', '2016-10-24', 0.0),\n",
       " ('USC00519397', '2016-10-25', 0.03),\n",
       " ('USC00519397', '2016-10-26', 0.0),\n",
       " ('USC00519397', '2016-10-27', 0.0),\n",
       " ('USC00519397', '2016-10-28', 0.0),\n",
       " ('USC00519397', '2016-10-29', 0.0),\n",
       " ('USC00519397', '2016-10-30', 0.24),\n",
       " ('USC00519397', '2016-10-31', 0.03),\n",
       " ('USC00519397', '2016-11-01', 0.0),\n",
       " ('USC00519397', '2016-11-02', 0.0),\n",
       " ('USC00519397', '2016-11-03', 0.0),\n",
       " ('USC00519397', '2016-11-04', 0.0),\n",
       " ('USC00519397', '2016-11-05', 0.0),\n",
       " ('USC00519397', '2016-11-06', 0.0),\n",
       " ('USC00519397', '2016-11-07', 0.0),\n",
       " ('USC00519397', '2016-11-08', 0.07),\n",
       " ('USC00519397', '2016-11-09', 0.0),\n",
       " ('USC00519397', '2016-11-10', 0.0),\n",
       " ('USC00519397', '2016-11-11', 0.0),\n",
       " ('USC00519397', '2016-11-12', 0.0),\n",
       " ('USC00519397', '2016-11-13', 0.0),\n",
       " ('USC00519397', '2016-11-14', 0.0),\n",
       " ('USC00519397', '2016-11-15', 0.0),\n",
       " ('USC00519397', '2016-11-16', 0.0),\n",
       " ('USC00519397', '2016-11-17', 0.0),\n",
       " ('USC00519397', '2016-11-18', 0.0),\n",
       " ('USC00519397', '2016-11-19', 0.03),\n",
       " ('USC00519397', '2016-11-20', 0.05),\n",
       " ('USC00519397', '2016-11-21', 0.01),\n",
       " ('USC00519397', '2016-11-22', 0.13),\n",
       " ('USC00519397', '2016-11-23', 0.14),\n",
       " ('USC00519397', '2016-11-24', 0.05),\n",
       " ('USC00519397', '2016-11-25', 0.05),\n",
       " ('USC00519397', '2016-11-26', 0.05),\n",
       " ('USC00519397', '2016-11-27', 0.0),\n",
       " ('USC00519397', '2016-11-28', 0.01),\n",
       " ('USC00519397', '2016-11-29', 0.0),\n",
       " ('USC00519397', '2016-11-30', 0.14),\n",
       " ('USC00519397', '2016-12-01', 0.12),\n",
       " ('USC00519397', '2016-12-02', 0.03),\n",
       " ('USC00519397', '2016-12-03', 0.0),\n",
       " ('USC00519397', '2016-12-04', 0.03),\n",
       " ('USC00519397', '2016-12-05', 0.43),\n",
       " ('USC00519397', '2016-12-06', 0.02),\n",
       " ('USC00519397', '2016-12-07', 0.0),\n",
       " ('USC00519397', '2016-12-08', 0.03),\n",
       " ('USC00519397', '2016-12-09', 0.52),\n",
       " ('USC00519397', '2016-12-10', 0.05),\n",
       " ('USC00519397', '2016-12-11', 0.04),\n",
       " ('USC00519397', '2016-12-12', 0.01),\n",
       " ('USC00519397', '2016-12-13', 0.05),\n",
       " ('USC00519397', '2016-12-14', 0.03),\n",
       " ('USC00519397', '2016-12-15', 0.0),\n",
       " ('USC00519397', '2016-12-16', 0.0),\n",
       " ('USC00519397', '2016-12-17', 0.01),\n",
       " ('USC00519397', '2016-12-18', 0.13),\n",
       " ('USC00519397', '2016-12-19', 0.01),\n",
       " ('USC00519397', '2016-12-20', 0.0),\n",
       " ('USC00519397', '2016-12-21', 0.0),\n",
       " ('USC00519397', '2016-12-22', 0.01),\n",
       " ('USC00519397', '2016-12-23', 0.01),\n",
       " ('USC00519397', '2016-12-24', 0.01),\n",
       " ('USC00519397', '2016-12-25', 0.0),\n",
       " ('USC00519397', '2016-12-26', 0.02),\n",
       " ('USC00519397', '2016-12-27', 0.0),\n",
       " ('USC00519397', '2016-12-28', 0.02),\n",
       " ('USC00519397', '2016-12-29', 0.04),\n",
       " ('USC00519397', '2016-12-30', 0.12),\n",
       " ('USC00519397', '2016-12-31', 0.01),\n",
       " ('USC00519397', '2017-01-01', 0.0),\n",
       " ('USC00519397', '2017-01-02', 0.0),\n",
       " ('USC00519397', '2017-01-03', 0.0),\n",
       " ('USC00519397', '2017-01-04', 0.0),\n",
       " ('USC00519397', '2017-01-05', 0.0),\n",
       " ('USC00519397', '2017-01-06', 0.0),\n",
       " ('USC00519397', '2017-01-07', 0.0),\n",
       " ('USC00519397', '2017-01-08', 0.0),\n",
       " ('USC00519397', '2017-01-09', 0.0),\n",
       " ('USC00519397', '2017-01-10', 0.0),\n",
       " ('USC00519397', '2017-01-11', 0.0),\n",
       " ('USC00519397', '2017-01-12', 0.0),\n",
       " ('USC00519397', '2017-01-13', 0.0),\n",
       " ('USC00519397', '2017-01-14', 0.0),\n",
       " ('USC00519397', '2017-01-15', 0.0),\n",
       " ('USC00519397', '2017-01-16', 0.0),\n",
       " ('USC00519397', '2017-01-17', 0.0),\n",
       " ('USC00519397', '2017-01-18', 0.0),\n",
       " ('USC00519397', '2017-01-19', 0.0),\n",
       " ('USC00519397', '2017-01-20', 0.0),\n",
       " ('USC00519397', '2017-01-21', 0.0),\n",
       " ('USC00519397', '2017-01-22', 0.16),\n",
       " ('USC00519397', '2017-01-23', 0.0),\n",
       " ('USC00519397', '2017-01-24', 0.04),\n",
       " ('USC00519397', '2017-01-25', 0.03),\n",
       " ('USC00519397', '2017-01-26', 0.0),\n",
       " ('USC00519397', '2017-01-27', 0.0),\n",
       " ('USC00519397', '2017-01-28', 0.0),\n",
       " ('USC00519397', '2017-01-29', 0.18),\n",
       " ('USC00519397', '2017-01-30', 0.0),\n",
       " ('USC00519397', '2017-01-31', 0.0),\n",
       " ('USC00519397', '2017-02-01', 0.0),\n",
       " ('USC00519397', '2017-02-02', 0.0),\n",
       " ('USC00519397', '2017-02-03', 0.0),\n",
       " ('USC00519397', '2017-02-04', 0.0),\n",
       " ('USC00519397', '2017-02-05', 0.0),\n",
       " ('USC00519397', '2017-02-06', 0.0),\n",
       " ('USC00519397', '2017-02-07', 0.51),\n",
       " ('USC00519397', '2017-02-08', 0.0),\n",
       " ('USC00519397', '2017-02-09', 0.0),\n",
       " ('USC00519397', '2017-02-10', 0.0),\n",
       " ('USC00519397', '2017-02-11', 0.31),\n",
       " ('USC00519397', '2017-02-12', 2.62),\n",
       " ('USC00519397', '2017-02-13', 0.01),\n",
       " ('USC00519397', '2017-02-14', 0.0),\n",
       " ('USC00519397', '2017-02-15', 0.0),\n",
       " ('USC00519397', '2017-02-16', 0.07),\n",
       " ('USC00519397', '2017-02-17', 0.0),\n",
       " ('USC00519397', '2017-02-18', 0.0),\n",
       " ('USC00519397', '2017-02-19', 0.0),\n",
       " ('USC00519397', '2017-02-20', 0.0),\n",
       " ('USC00519397', '2017-02-21', 0.06),\n",
       " ('USC00519397', '2017-02-22', 0.06),\n",
       " ('USC00519397', '2017-02-23', 0.01),\n",
       " ('USC00519397', '2017-02-24', 0.0),\n",
       " ('USC00519397', '2017-02-25', 0.03),\n",
       " ('USC00519397', '2017-02-26', 0.0),\n",
       " ('USC00519397', '2017-02-27', 0.0),\n",
       " ('USC00519397', '2017-02-28', 0.0),\n",
       " ('USC00519397', '2017-03-01', 1.19),\n",
       " ('USC00519397', '2017-03-02', 0.73),\n",
       " ('USC00519397', '2017-03-03', 0.47),\n",
       " ('USC00519397', '2017-03-04', 0.0),\n",
       " ('USC00519397', '2017-03-05', 0.35),\n",
       " ('USC00519397', '2017-03-06', 0.0),\n",
       " ('USC00519397', '2017-03-07', 0.0),\n",
       " ('USC00519397', '2017-03-08', 0.0),\n",
       " ('USC00519397', '2017-03-09', 0.0),\n",
       " ('USC00519397', '2017-03-10', 0.0),\n",
       " ('USC00519397', '2017-03-11', 0.0),\n",
       " ('USC00519397', '2017-03-12', 0.0),\n",
       " ('USC00519397', '2017-03-13', 0.0),\n",
       " ('USC00519397', '2017-03-14', 0.0),\n",
       " ('USC00519397', '2017-03-15', 0.0),\n",
       " ('USC00519397', '2017-03-16', 0.0),\n",
       " ('USC00519397', '2017-03-17', 0.0),\n",
       " ('USC00519397', '2017-03-18', 0.0),\n",
       " ('USC00519397', '2017-03-19', 0.0),\n",
       " ('USC00519397', '2017-03-20', 0.0),\n",
       " ('USC00519397', '2017-03-21', 0.0),\n",
       " ('USC00519397', '2017-03-22', 0.0),\n",
       " ('USC00519397', '2017-03-23', 0.0),\n",
       " ('USC00519397', '2017-03-24', 0.02),\n",
       " ('USC00519397', '2017-03-25', 0.0),\n",
       " ('USC00519397', '2017-03-26', 0.0),\n",
       " ('USC00519397', '2017-03-27', 0.0),\n",
       " ('USC00519397', '2017-03-28', 0.0),\n",
       " ('USC00519397', '2017-03-29', 0.0),\n",
       " ('USC00519397', '2017-03-30', 0.0),\n",
       " ('USC00519397', '2017-03-31', 0.0),\n",
       " ('USC00519397', '2017-04-01', 0.0),\n",
       " ('USC00519397', '2017-04-02', 0.0),\n",
       " ('USC00519397', '2017-04-03', 0.0),\n",
       " ('USC00519397', '2017-04-04', 0.0),\n",
       " ('USC00519397', '2017-04-05', 0.0),\n",
       " ('USC00519397', '2017-04-06', 0.0),\n",
       " ('USC00519397', '2017-04-07', 0.0),\n",
       " ('USC00519397', '2017-04-08', 0.0),\n",
       " ('USC00519397', '2017-04-09', 0.0),\n",
       " ('USC00519397', '2017-04-10', 0.0),\n",
       " ('USC00519397', '2017-04-11', 0.0),\n",
       " ('USC00519397', '2017-04-12', 0.0),\n",
       " ('USC00519397', '2017-04-13', 0.0),\n",
       " ('USC00519397', '2017-04-14', 0.26),\n",
       " ('USC00519397', '2017-04-15', 0.01),\n",
       " ('USC00519397', '2017-04-16', 0.0),\n",
       " ('USC00519397', '2017-04-17', 0.02),\n",
       " ('USC00519397', '2017-04-18', 0.0),\n",
       " ('USC00519397', '2017-04-19', 0.02),\n",
       " ('USC00519397', '2017-04-20', 0.05),\n",
       " ('USC00519397', '2017-04-21', 0.23),\n",
       " ('USC00519397', '2017-04-22', 0.32),\n",
       " ('USC00519397', '2017-04-23', 0.03),\n",
       " ('USC00519397', '2017-04-24', 0.0),\n",
       " ('USC00519397', '2017-04-25', 0.0),\n",
       " ('USC00519397', '2017-04-26', 0.0),\n",
       " ('USC00519397', '2017-04-27', 0.0),\n",
       " ('USC00519397', '2017-04-28', 0.0),\n",
       " ('USC00519397', '2017-04-29', 0.12),\n",
       " ('USC00519397', '2017-04-30', 0.89),\n",
       " ('USC00519397', '2017-05-01', 0.26),\n",
       " ('USC00519397', '2017-05-02', 0.0),\n",
       " ('USC00519397', '2017-05-03', 0.0),\n",
       " ('USC00519397', '2017-05-04', 0.0),\n",
       " ('USC00519397', '2017-05-05', 0.0),\n",
       " ('USC00519397', '2017-05-06', 0.0),\n",
       " ('USC00519397', '2017-05-07', 0.0),\n",
       " ('USC00519397', '2017-05-08', 0.0),\n",
       " ('USC00519397', '2017-05-10', 0.0),\n",
       " ('USC00519397', '2017-05-11', 0.01),\n",
       " ('USC00519397', '2017-05-12', 0.0),\n",
       " ('USC00519397', '2017-05-13', 0.0),\n",
       " ('USC00519397', '2017-05-14', 0.0),\n",
       " ('USC00519397', '2017-05-15', 0.05),\n",
       " ('USC00519397', '2017-05-16', 0.01),\n",
       " ('USC00519397', '2017-05-17', 0.0),\n",
       " ('USC00519397', '2017-05-18', 0.01),\n",
       " ('USC00519397', '2017-05-19', 0.0),\n",
       " ('USC00519397', '2017-05-20', 0.0),\n",
       " ('USC00519397', '2017-05-21', 0.0),\n",
       " ('USC00519397', '2017-05-22', 0.0),\n",
       " ('USC00519397', '2017-05-23', 0.08),\n",
       " ('USC00519397', '2017-05-24', 0.13),\n",
       " ('USC00519397', '2017-05-25', 0.15),\n",
       " ('USC00519397', '2017-05-27', 0.01),\n",
       " ('USC00519397', '2017-05-28', 0.02),\n",
       " ('USC00519397', '2017-05-29', 0.0),\n",
       " ('USC00519397', '2017-05-30', 0.26),\n",
       " ('USC00519397', '2017-05-31', 0.02),\n",
       " ('USC00519397', '2017-06-01', 0.0),\n",
       " ('USC00519397', '2017-06-02', 0.0),\n",
       " ('USC00519397', '2017-06-03', 0.02),\n",
       " ('USC00519397', '2017-06-04', 0.0),\n",
       " ('USC00519397', '2017-06-05', 0.0),\n",
       " ('USC00519397', '2017-06-06', 0.0),\n",
       " ('USC00519397', '2017-06-07', 0.0),\n",
       " ('USC00519397', '2017-06-08', 0.0),\n",
       " ('USC00519397', '2017-06-09', 0.0),\n",
       " ('USC00519397', '2017-06-10', 0.04),\n",
       " ('USC00519397', '2017-06-11', 0.08),\n",
       " ('USC00519397', '2017-06-12', 0.02),\n",
       " ('USC00519397', '2017-06-13', 0.0),\n",
       " ('USC00519397', '2017-06-14', 0.0),\n",
       " ('USC00519397', '2017-06-15', 0.0),\n",
       " ('USC00519397', '2017-06-16', 0.0),\n",
       " ('USC00519397', '2017-06-17', 0.0),\n",
       " ('USC00519397', '2017-06-18', 0.05),\n",
       " ('USC00519397', '2017-06-19', 0.0),\n",
       " ('USC00519397', '2017-06-20', 0.02),\n",
       " ('USC00519397', '2017-06-21', 0.0),\n",
       " ('USC00519397', '2017-06-22', 0.0),\n",
       " ('USC00519397', '2017-06-23', 0.0),\n",
       " ('USC00519397', '2017-06-24', 0.06),\n",
       " ('USC00519397', '2017-06-25', 0.0),\n",
       " ('USC00519397', '2017-06-26', 0.0),\n",
       " ('USC00519397', '2017-06-27', 0.0),\n",
       " ('USC00519397', '2017-06-28', 0.0),\n",
       " ('USC00519397', '2017-06-29', 0.0),\n",
       " ('USC00519397', '2017-06-30', 0.08),\n",
       " ('USC00519397', '2017-07-01', 0.02),\n",
       " ('USC00519397', '2017-07-02', 0.02),\n",
       " ('USC00519397', '2017-07-03', 0.04),\n",
       " ('USC00519397', '2017-07-04', 0.04),\n",
       " ('USC00519397', '2017-07-05', 0.0),\n",
       " ('USC00519397', '2017-07-06', 0.0),\n",
       " ('USC00519397', '2017-07-07', 0.0),\n",
       " ('USC00519397', '2017-07-08', 0.0),\n",
       " ('USC00519397', '2017-07-09', 0.0),\n",
       " ('USC00519397', '2017-07-10', 0.0),\n",
       " ('USC00519397', '2017-07-11', 0.0),\n",
       " ('USC00519397', '2017-07-12', 0.0),\n",
       " ('USC00519397', '2017-07-13', 0.07),\n",
       " ('USC00519397', '2017-07-14', 0.02),\n",
       " ('USC00519397', '2017-07-15', 0.0),\n",
       " ('USC00519397', '2017-07-16', 0.02),\n",
       " ('USC00519397', '2017-07-17', 0.03),\n",
       " ('USC00519397', '2017-07-18', 0.05),\n",
       " ('USC00519397', '2017-07-20', 0.03),\n",
       " ('USC00519397', '2017-07-21', 0.0),\n",
       " ('USC00519397', '2017-07-22', 0.03),\n",
       " ('USC00519397', '2017-07-23', 0.0),\n",
       " ('USC00519397', '2017-07-24', 0.05),\n",
       " ('USC00519397', '2017-07-25', 0.0),\n",
       " ('USC00519397', '2017-07-26', 0.0),\n",
       " ('USC00519397', '2017-07-27', 0.0),\n",
       " ('USC00519397', '2017-07-28', 0.0),\n",
       " ('USC00519397', '2017-07-29', 0.0),\n",
       " ('USC00519397', '2017-07-30', 0.0),\n",
       " ('USC00519397', '2017-07-31', 0.0),\n",
       " ('USC00519397', '2017-08-01', 0.02),\n",
       " ('USC00519397', '2017-08-02', 0.0),\n",
       " ('USC00519397', '2017-08-03', 0.0),\n",
       " ('USC00519397', '2017-08-04', 0.02),\n",
       " ('USC00519397', '2017-08-05', 0.0),\n",
       " ('USC00519397', '2017-08-06', 0.0),\n",
       " ('USC00519397', '2017-08-07', 0.0),\n",
       " ('USC00519397', '2017-08-08', 0.0),\n",
       " ('USC00519397', '2017-08-09', 0.0),\n",
       " ('USC00519397', '2017-08-10', 0.0),\n",
       " ('USC00519397', '2017-08-11', 0.0),\n",
       " ('USC00519397', '2017-08-12', 0.0),\n",
       " ('USC00519397', '2017-08-13', 0.0),\n",
       " ('USC00519397', '2017-08-14', 0.0),\n",
       " ('USC00519397', '2017-08-15', 0.02),\n",
       " ('USC00519397', '2017-08-18', 0.0),\n",
       " ('USC00519397', '2017-08-19', 0.0),\n",
       " ('USC00519397', '2017-08-20', 0.0),\n",
       " ('USC00519397', '2017-08-21', 0.0),\n",
       " ('USC00519397', '2017-08-22', 0.0),\n",
       " ('USC00519397', '2017-08-23', 0.0)]"
      ]
     },
     "execution_count": 21,
     "metadata": {},
     "output_type": "execute_result"
    }
   ],
   "source": [
    "# Design a query to retrieve the last 12 months of precipitation data and plot the results\n",
    "# Calculate the date 1 year ago from the last data point in the database\n",
    "# Perform a query to retrieve the data and precipitation scores\n",
    "session.query(Measurement.station, Measurement.date, Measurement.prcp).\\\n",
    "    filter(Measurement.station == 'USC00519397').\\\n",
    "    filter(Measurement.date >= '2016-08-24' ).\\\n",
    "    order_by(Measurement.date).all()"
   ]
  },
  {
   "cell_type": "code",
   "execution_count": 22,
   "metadata": {},
   "outputs": [],
   "source": [
    "# Perform a query to retrieve the data and precipitation scores\n",
    "results = session.query(Measurement.station, Measurement.date, Measurement.prcp).\\\n",
    "    filter(Measurement.station == 'USC00519397').\\\n",
    "    filter(Measurement.date >= '2016-08-24' ).\\\n",
    "    order_by(Measurement.date).all()"
   ]
  },
  {
   "cell_type": "code",
   "execution_count": 23,
   "metadata": {},
   "outputs": [],
   "source": [
    "# Unpack the date and precipitation results and save into separate lists\n",
    "x = [result[1] for result in results]\n",
    "y = [result[2] for result in results]"
   ]
  },
  {
   "cell_type": "code",
   "execution_count": 24,
   "metadata": {},
   "outputs": [
    {
     "data": {
      "text/html": [
       "<div>\n",
       "<style scoped>\n",
       "    .dataframe tbody tr th:only-of-type {\n",
       "        vertical-align: middle;\n",
       "    }\n",
       "\n",
       "    .dataframe tbody tr th {\n",
       "        vertical-align: top;\n",
       "    }\n",
       "\n",
       "    .dataframe thead th {\n",
       "        text-align: right;\n",
       "    }\n",
       "</style>\n",
       "<table border=\"1\" class=\"dataframe\">\n",
       "  <thead>\n",
       "    <tr style=\"text-align: right;\">\n",
       "      <th></th>\n",
       "      <th>Precipitation</th>\n",
       "    </tr>\n",
       "    <tr>\n",
       "      <th>Date</th>\n",
       "      <th></th>\n",
       "    </tr>\n",
       "  </thead>\n",
       "  <tbody>\n",
       "    <tr>\n",
       "      <th>2016-08-24</th>\n",
       "      <td>0.08</td>\n",
       "    </tr>\n",
       "    <tr>\n",
       "      <th>2016-08-25</th>\n",
       "      <td>0.08</td>\n",
       "    </tr>\n",
       "    <tr>\n",
       "      <th>2016-08-26</th>\n",
       "      <td>0.00</td>\n",
       "    </tr>\n",
       "    <tr>\n",
       "      <th>2016-08-27</th>\n",
       "      <td>0.00</td>\n",
       "    </tr>\n",
       "    <tr>\n",
       "      <th>2016-08-28</th>\n",
       "      <td>0.01</td>\n",
       "    </tr>\n",
       "    <tr>\n",
       "      <th>2016-08-29</th>\n",
       "      <td>0.00</td>\n",
       "    </tr>\n",
       "    <tr>\n",
       "      <th>2016-08-30</th>\n",
       "      <td>0.00</td>\n",
       "    </tr>\n",
       "    <tr>\n",
       "      <th>2016-08-31</th>\n",
       "      <td>0.13</td>\n",
       "    </tr>\n",
       "    <tr>\n",
       "      <th>2016-09-01</th>\n",
       "      <td>0.00</td>\n",
       "    </tr>\n",
       "    <tr>\n",
       "      <th>2016-09-02</th>\n",
       "      <td>0.00</td>\n",
       "    </tr>\n",
       "    <tr>\n",
       "      <th>2016-09-03</th>\n",
       "      <td>0.00</td>\n",
       "    </tr>\n",
       "    <tr>\n",
       "      <th>2016-09-04</th>\n",
       "      <td>0.03</td>\n",
       "    </tr>\n",
       "    <tr>\n",
       "      <th>2016-09-07</th>\n",
       "      <td>0.05</td>\n",
       "    </tr>\n",
       "    <tr>\n",
       "      <th>2016-09-08</th>\n",
       "      <td>0.00</td>\n",
       "    </tr>\n",
       "    <tr>\n",
       "      <th>2016-09-09</th>\n",
       "      <td>0.03</td>\n",
       "    </tr>\n",
       "    <tr>\n",
       "      <th>2016-09-10</th>\n",
       "      <td>0.00</td>\n",
       "    </tr>\n",
       "    <tr>\n",
       "      <th>2016-09-11</th>\n",
       "      <td>0.05</td>\n",
       "    </tr>\n",
       "    <tr>\n",
       "      <th>2016-09-12</th>\n",
       "      <td>0.00</td>\n",
       "    </tr>\n",
       "    <tr>\n",
       "      <th>2016-09-13</th>\n",
       "      <td>0.02</td>\n",
       "    </tr>\n",
       "    <tr>\n",
       "      <th>2016-09-14</th>\n",
       "      <td>1.32</td>\n",
       "    </tr>\n",
       "    <tr>\n",
       "      <th>2016-09-15</th>\n",
       "      <td>0.42</td>\n",
       "    </tr>\n",
       "    <tr>\n",
       "      <th>2016-09-16</th>\n",
       "      <td>0.06</td>\n",
       "    </tr>\n",
       "    <tr>\n",
       "      <th>2016-09-17</th>\n",
       "      <td>0.05</td>\n",
       "    </tr>\n",
       "    <tr>\n",
       "      <th>2016-09-18</th>\n",
       "      <td>0.00</td>\n",
       "    </tr>\n",
       "    <tr>\n",
       "      <th>2016-09-19</th>\n",
       "      <td>0.00</td>\n",
       "    </tr>\n",
       "    <tr>\n",
       "      <th>2016-09-20</th>\n",
       "      <td>0.00</td>\n",
       "    </tr>\n",
       "    <tr>\n",
       "      <th>2016-09-21</th>\n",
       "      <td>0.00</td>\n",
       "    </tr>\n",
       "    <tr>\n",
       "      <th>2016-09-22</th>\n",
       "      <td>0.02</td>\n",
       "    </tr>\n",
       "    <tr>\n",
       "      <th>2016-09-23</th>\n",
       "      <td>0.00</td>\n",
       "    </tr>\n",
       "    <tr>\n",
       "      <th>2016-09-24</th>\n",
       "      <td>0.00</td>\n",
       "    </tr>\n",
       "  </tbody>\n",
       "</table>\n",
       "</div>"
      ],
      "text/plain": [
       "            Precipitation\n",
       "Date                     \n",
       "2016-08-24           0.08\n",
       "2016-08-25           0.08\n",
       "2016-08-26           0.00\n",
       "2016-08-27           0.00\n",
       "2016-08-28           0.01\n",
       "2016-08-29           0.00\n",
       "2016-08-30           0.00\n",
       "2016-08-31           0.13\n",
       "2016-09-01           0.00\n",
       "2016-09-02           0.00\n",
       "2016-09-03           0.00\n",
       "2016-09-04           0.03\n",
       "2016-09-07           0.05\n",
       "2016-09-08           0.00\n",
       "2016-09-09           0.03\n",
       "2016-09-10           0.00\n",
       "2016-09-11           0.05\n",
       "2016-09-12           0.00\n",
       "2016-09-13           0.02\n",
       "2016-09-14           1.32\n",
       "2016-09-15           0.42\n",
       "2016-09-16           0.06\n",
       "2016-09-17           0.05\n",
       "2016-09-18           0.00\n",
       "2016-09-19           0.00\n",
       "2016-09-20           0.00\n",
       "2016-09-21           0.00\n",
       "2016-09-22           0.02\n",
       "2016-09-23           0.00\n",
       "2016-09-24           0.00"
      ]
     },
     "execution_count": 24,
     "metadata": {},
     "output_type": "execute_result"
    }
   ],
   "source": [
    "# Save the query results as a Pandas DataFrame and set the index to the date column\n",
    "# Sort the dataframe by date\n",
    "df = pd.DataFrame({\"Date\":x, \"Precipitation\":y}).sort_values([\"Date\"], ascending=True)\n",
    "#df = df[\"Precipitation\"].astype(float)\n",
    "df2 = df.dropna(how=\"any\")\n",
    "#df2 = df[df[\"Precipitation\"] != \"None\"]\n",
    "df2.set_index(\"Date\", inplace=True, )\n",
    "df2.head(30)"
   ]
  },
  {
   "cell_type": "code",
   "execution_count": 29,
   "metadata": {},
   "outputs": [
    {
     "data": {
      "image/png": "[encoded data removed]",
      "text/plain": [
       "<Figure size 1440x216 with 1 Axes>"
      ]
     },
     "metadata": {},
     "output_type": "display_data"
    },
    {
     "data": {
      "text/plain": [
       "<Figure size 432x288 with 0 Axes>"
      ]
     },
     "metadata": {},
     "output_type": "display_data"
    }
   ],
   "source": [
    "# Use Pandas Plotting with Matplotlib to plot the data\n",
    "df2.plot(kind=\"line\", figsize=(20,3))\n",
    "#df2.plot(kind=\"hist\", figsize=(20,3), bins=12)\n",
    "plt.title(\"Waikiki Precipitation\")\n",
    "plt.show()\n",
    "plt.tight_layout()"
   ]
  },
  {
   "cell_type": "code",
   "execution_count": 30,
   "metadata": {},
   "outputs": [
    {
     "name": "stdout",
     "output_type": "stream",
     "text": [
      "The average precipitation for the selected station is: 0.04494413407821229 inches over the trailing 12 months\n",
      "The median precipitation for the selected station is: 0.0 inches over the trailing 12 months\n"
     ]
    }
   ],
   "source": [
    "# Use Pandas to calcualte the summary statistics for the precipitation data\n",
    "average = df[\"Precipitation\"].mean()\n",
    "print(f\"The average precipitation for the selected station is: {average} inches over the trailing 12 months\")\n",
    "median = df[\"Precipitation\"].median()\n",
    "print(f\"The median precipitation for the selected station is: {median} inches over the trailing 12 months\")\n",
    "# mode = df[\"Precipitation\"].mode()\n",
    "# print(f\"The most common precipitation doay for the selected station is: {mode} inches over the trailing 12 months\")"
   ]
  },
  {
   "cell_type": "code",
   "execution_count": 31,
   "metadata": {},
   "outputs": [
    {
     "data": {
      "text/plain": [
       "[(9)]"
      ]
     },
     "execution_count": 31,
     "metadata": {},
     "output_type": "execute_result"
    }
   ],
   "source": [
    "# Design a query to show how many stations are available in this dataset?\n",
    "session.query(func.count(Station.station)).all()"
   ]
  },
  {
   "cell_type": "code",
   "execution_count": 32,
   "metadata": {},
   "outputs": [
    {
     "data": {
      "text/plain": [
       "Station\n",
       "USC00519397    360\n",
       "USC00519281    351\n",
       "USC00516128    348\n",
       "USC00513117    342\n",
       "USC00519523    336\n",
       "USC00514830    304\n",
       "USC00517948    182\n",
       "Name: Active Temperature Observations, dtype: int64"
      ]
     },
     "execution_count": 32,
     "metadata": {},
     "output_type": "execute_result"
    }
   ],
   "source": [
    "# What are the most active stations? (i.e. what stations have the most temperature observations)?\n",
    "# List the stations and the counts in descending order.\n",
    "active = session.query(Measurement.station, Measurement.date, Measurement.tobs).\\\n",
    "    filter(Measurement.date >= '2016-08-24' ).\\\n",
    "    order_by(Measurement.date).all()\n",
    "\n",
    "xx = [result[0] for result in active]\n",
    "yy = [result[2] for result in active]\n",
    "\n",
    "active1 = pd.DataFrame({\"Station\":xx, \"Temperature\":yy}).sort_values([\"Station\"], ascending=True)\n",
    "#active2 = active1[active1[\"Temperature\"] != \"None\"]\n",
    "active2 = active1.dropna(how=\"any\")\n",
    "active3 = active2.groupby([\"Station\"]).count()[\"Temperature\"].rename(\"Active Temperature Observations\").sort_values(ascending=False)\n",
    "active3.head(30)"
   ]
  },
  {
   "cell_type": "code",
   "execution_count": 33,
   "metadata": {},
   "outputs": [
    {
     "name": "stdout",
     "output_type": "stream",
     "text": [
      "Station\n",
      "USC00519397    60.0\n",
      "Name: Lowest Temperature - Trailing 12 months, dtype: float64\n",
      "Station\n",
      "USC00519397    87.0\n",
      "Name: Highest Temperature - Trailing 12 months, dtype: float64\n",
      "Station\n",
      "USC00519397    75.194444\n",
      "Name: Average Temperature - Trailing 12 months, dtype: float64\n"
     ]
    }
   ],
   "source": [
    "# Using the station id from the previous query, calculate the lowest temperature recorded, \n",
    "# highest temperature recorded, and average temperature of the most active station?\n",
    "templ = session.query(Measurement.station, Measurement.date, Measurement.tobs).\\\n",
    "    filter(Measurement.station == 'USC00519397').\\\n",
    "    filter(Measurement.date >= '2016-08-24' ).\\\n",
    "    order_by(Measurement.date).all()\n",
    "\n",
    "xl = [alpha[0] for alpha in templ]\n",
    "yl = [alpha[2] for alpha in templ]\n",
    "\n",
    "temp1 = pd.DataFrame({\"Station\":xl, \"Temperature\":yl})\n",
    "#active2 = active1[active1[\"Temperature\"] != \"None\"]\n",
    "temp2 = temp1.dropna(how=\"any\")\n",
    "temp3 = temp2.groupby([\"Station\"]).min()[\"Temperature\"].rename(\"Lowest Temperature - Trailing 12 months\").sort_values(ascending=False)\n",
    "print(temp3)\n",
    "temp4 = temp2.groupby([\"Station\"]).max()[\"Temperature\"].rename(\"Highest Temperature - Trailing 12 months\").sort_values(ascending=False)\n",
    "print(temp4)\n",
    "temp5 = temp2.groupby([\"Station\"]).mean()[\"Temperature\"].rename(\"Average Temperature - Trailing 12 months\").sort_values(ascending=False)\n",
    "print(temp5)"
   ]
  },
  {
   "cell_type": "code",
   "execution_count": 35,
   "metadata": {},
   "outputs": [
    {
     "data": {
      "image/png": "[encoded data removed]",
      "text/plain": [
       "<Figure size 432x288 with 1 Axes>"
      ]
     },
     "metadata": {},
     "output_type": "display_data"
    }
   ],
   "source": [
    "# Choose the station with the highest number of temperature observations.\n",
    "# Query the last 12 months of temperature observation data for this station and plot the results as a histogram\n",
    "histogram = temp2[\"Temperature\"]\n",
    "plt.hist(histogram, bins=10)\n",
    "#plt.hist(histogram)\n",
    "plt.xlabel('Temperature (°F)')\n",
    "plt.ylabel('Counts')\n",
    "plt.show()"
   ]
  },
  {
   "cell_type": "markdown",
   "metadata": {},
   "source": [
    "## Bonus Challenge Assignment"
   ]
  },
  {
   "cell_type": "code",
   "execution_count": null,
   "metadata": {},
   "outputs": [],
   "source": [
    "# This function called `calc_temps` will accept start date and end date in the format '%Y-%m-%d' \n",
    "# and return the minimum, average, and maximum temperatures for that range of dates\n",
    "def calc_temps(start_date, end_date):\n",
    "    \"\"\"TMIN, TAVG, and TMAX for a list of dates.\n",
    "    \n",
    "    Args:\n",
    "        start_date (string): A date string in the format %Y-%m-%d\n",
    "        end_date (string): A date string in the format %Y-%m-%d\n",
    "        \n",
    "    Returns:\n",
    "        TMIN, TAVE, and TMAX\n",
    "    \"\"\"\n",
    "    \n",
    "    return session.query(func.min(Measurement.tobs), func.avg(Measurement.tobs), func.max(Measurement.tobs)).\\\n",
    "        filter(Measurement.date >= start_date).filter(Measurement.date <= end_date).all()\n",
    "\n",
    "# function usage example\n",
    "print(calc_temps('2012-02-28', '2012-03-05'))"
   ]
  },
  {
   "cell_type": "code",
   "execution_count": null,
   "metadata": {},
   "outputs": [],
   "source": [
    "# Use your previous function `calc_temps` to calculate the tmin, tavg, and tmax \n",
    "# for your trip using the previous year's data for those same dates.\n"
   ]
  },
  {
   "cell_type": "code",
   "execution_count": null,
   "metadata": {},
   "outputs": [],
   "source": [
    "# Plot the results from your previous query as a bar chart. \n",
    "# Use \"Trip Avg Temp\" as your Title\n",
    "# Use the average temperature for the y value\n",
    "# Use the peak-to-peak (tmax-tmin) value as the y error bar (yerr)\n"
   ]
  },
  {
   "cell_type": "code",
   "execution_count": null,
   "metadata": {},
   "outputs": [],
   "source": [
    "# Calculate the total amount of rainfall per weather station for your trip dates using the previous year's matching dates.\n",
    "# Sort this in descending order by precipitation amount and list the station, name, latitude, longitude, and elevation\n",
    "\n"
   ]
  },
  {
   "cell_type": "code",
   "execution_count": null,
   "metadata": {},
   "outputs": [],
   "source": [
    "# Create a query that will calculate the daily normals \n",
    "# (i.e. the averages for tmin, tmax, and tavg for all historic data matching a specific month and day)\n",
    "\n",
    "def daily_normals(date):\n",
    "    \"\"\"Daily Normals.\n",
    "    \n",
    "    Args:\n",
    "        date (str): A date string in the format '%m-%d'\n",
    "        \n",
    "    Returns:\n",
    "        A list of tuples containing the daily normals, tmin, tavg, and tmax\n",
    "    \n",
    "    \"\"\"\n",
    "    \n",
    "    sel = [func.min(Measurement.tobs), func.avg(Measurement.tobs), func.max(Measurement.tobs)]\n",
    "    return session.query(*sel).filter(func.strftime(\"%m-%d\", Measurement.date) == date).all()\n",
    "    \n",
    "daily_normals(\"01-01\")"
   ]
  },
  {
   "cell_type": "code",
   "execution_count": null,
   "metadata": {},
   "outputs": [],
   "source": [
    "# calculate the daily normals for your trip\n",
    "# push each tuple of calculations into a list called `normals`\n",
    "\n",
    "# Set the start and end date of the trip\n",
    "\n",
    "# Use the start and end date to create a range of dates\n",
    "\n",
    "# Stip off the year and save a list of %m-%d strings\n",
    "\n",
    "# Loop through the list of %m-%d strings and calculate the normals for each date\n"
   ]
  },
  {
   "cell_type": "code",
   "execution_count": null,
   "metadata": {},
   "outputs": [],
   "source": [
    "# Load the previous query results into a Pandas DataFrame and add the `trip_dates` range as the `date` index\n"
   ]
  },
  {
   "cell_type": "code",
   "execution_count": null,
   "metadata": {},
   "outputs": [],
   "source": [
    "# Plot the daily normals as an area plot with `stacked=False`\n"
   ]
  }
 ],
 "metadata": {
  "kernel_info": {
   "name": "python3"
  },
  "kernelspec": {
   "display_name": "Python 3",
   "language": "python",
   "name": "python3"
  },
  "language_info": {
   "codemirror_mode": {
    "name": "ipython",
    "version": 3
   },
   "file_extension": ".py",
   "mimetype": "text/x-python",
   "name": "python",
   "nbconvert_exporter": "python",
   "pygments_lexer": "ipython3",
   "version": "3.7.1"
  },
  "nteract": {
   "version": "0.12.3"
  },
  "varInspector": {
   "cols": {
    "lenName": 16,
    "lenType": 16,
    "lenVar": 40
   },
   "kernels_config": {
    "python": {
     "delete_cmd_postfix": "",
     "delete_cmd_prefix": "del ",
     "library": "var_list.py",
     "varRefreshCmd": "print(var_dic_list())"
    },
    "r": {
     "delete_cmd_postfix": ") ",
     "delete_cmd_prefix": "rm(",
     "library": "var_list.r",
     "varRefreshCmd": "cat(var_dic_list()) "
    }
   },
   "types_to_exclude": [
    "module",
    "function",
    "builtin_function_or_method",
    "instance",
    "_Feature"
   ],
   "window_display": false
  }
 },
 "nbformat": 4,
 "nbformat_minor": 2
}
